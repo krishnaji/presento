{
 "cells": [
  {
   "cell_type": "code",
   "execution_count": 1,
   "metadata": {},
   "outputs": [],
   "source": [
    "import vertexai\n",
    "from vertexai.generative_models import GenerativeModel\n",
    "from google.cloud.aiplatform.private_preview.vertex_agents_v2 import agents, sessions\n",
    "import json\n",
    "from vertexai.preview.vision_models import ImageGenerationModel\n",
    "from reportlab.lib.pagesizes import letter\n",
    "from reportlab.platypus import SimpleDocTemplate, Paragraph, Spacer, Image\n",
    "from reportlab.lib.styles import getSampleStyleSheet\n",
    "from io import BytesIO\n",
    "from PIL import Image as PILImage\n",
    "from IPython.display import display, HTML, Image\n",
    "import time"
   ]
  },
  {
   "cell_type": "code",
   "execution_count": 2,
   "metadata": {},
   "outputs": [],
   "source": [
    "# Project setup (ensure your project details are correct)\n",
    "PROJECT_ID = \"your-project-id\"  # Replace with your project ID\n",
    "LOCATION = \"us-central1\"  # Replace with your desired location\n",
    "vertexai.init(project=PROJECT_ID, location=LOCATION)"
   ]
  },
  {
   "cell_type": "code",
   "execution_count": 3,
   "metadata": {},
   "outputs": [],
   "source": [
    "MODEL = \"gemini-1.5-flash-001\"  # Replace if you're using a different model\n",
    "IMAGE_MODEL = \"imagen-3.0-generate-001\" # Image generation model\n"
   ]
  },
  {
   "cell_type": "code",
   "execution_count": 4,
   "metadata": {},
   "outputs": [],
   "source": [
    "# Story Generator \n",
    "story_generator = GenerativeModel(MODEL, system_instruction=[\"You are a concise and helpful story writer.\"])"
   ]
  },
  {
   "cell_type": "code",
   "execution_count": null,
   "metadata": {},
   "outputs": [],
   "source": [
    "# Slide Generator Agent\n",
    "slide_generator_app = agents.create(\n",
    "    display_name=\"Slide Generator\",\n",
    "    instruction=\"\"\"You create clear, concise slide decks.  Each slide has a title, a short paragraph (max 3 sentences), and bullet points. Separate slides with '=== slide ==='.\"\"\"\n",
    ")"
   ]
  },
  {
   "cell_type": "code",
   "execution_count": null,
   "metadata": {},
   "outputs": [],
   "source": [
    "# Slide Refiner Agent (New - for iterative improvement)\n",
    "slide_refiner_app = agents.create(\n",
    "    display_name=\"Slide Refiner\",\n",
    "    instruction=\"\"\"You review and improve slide decks.  Suggest specific changes for clarity, conciseness, and engagement, focusing on title, description, and takeaways.  Return the full revised slide deck text, with changes clearly marked (e.g., using [addition], [removal], [change: old text -> new text]).\"\"\"\n",
    ")"
   ]
  },
  {
   "cell_type": "code",
   "execution_count": null,
   "metadata": {},
   "outputs": [],
   "source": [
    "# Image Description Generator Agent\n",
    "image_description_app = agents.create(\n",
    "    display_name=\"Image Descriptions\",\n",
    "    instruction=\"\"\"You generate evocative image descriptions for slides, capturing the essence of the content and era.\"\"\"\n",
    ")\n"
   ]
  },
  {
   "cell_type": "code",
   "execution_count": null,
   "metadata": {},
   "outputs": [],
   "source": [
    "# JSON Converter Agent\n",
    "json_converter_app = agents.create(\n",
    "    display_name=\"JSON Converter\",\n",
    "    instruction=\"\"\"Convert slide text to JSON: ```json\n",
    "[\n",
    "  {\n",
    "    \"title\": \"<title>\",\n",
    "    \"description\": \"<description>\",\n",
    "    \"takeaways\": [\"<takeaway 1>\", \"<takeaway 2>\", \"<takeaway 3>\"]\n",
    "  }, ...\n",
    "]\n",
    "```\"\"\"  \n",
    ")"
   ]
  },
  {
   "cell_type": "code",
   "execution_count": 9,
   "metadata": {},
   "outputs": [],
   "source": [
    "def generate_images(slide_data, image_description_session, imagen_model,query):\n",
    "    for i, d in enumerate(slide_data):\n",
    "        while True:\n",
    "            try:\n",
    "                prompt = image_description_session.create_run(agent=image_description_app,\n",
    "                    content=f\"Topic: {query}.\\n Slide title: {d['title']} \\n Slide main message: {d['description']} \\n Slide bullet points: {d['takeaways']}\"\n",
    "                ).steps[-1].content.parts[0].text\n",
    "\n",
    "                response = imagen_model.generate_images(\n",
    "                    prompt=prompt, aspect_ratio=\"1:1\"\n",
    "                )\n",
    "                slide_data[i]['image'] = response.images[0]._as_base64_string()\n",
    "                time.sleep(3)  # Avoid rate limiting\n",
    "                break\n",
    "            except Exception as e:\n",
    "                print(f\"Image generation error: {e}\")\n",
    "                time.sleep(3)\n",
    "    return slide_data"
   ]
  },
  {
   "cell_type": "code",
   "execution_count": 10,
   "metadata": {},
   "outputs": [],
   "source": [
    "query = \"transformer architecture deep learning\"  #  story idea\n"
   ]
  },
  {
   "cell_type": "code",
   "execution_count": 11,
   "metadata": {},
   "outputs": [],
   "source": [
    "story = story_generator.generate_content(query, generation_config={\"max_output_tokens\": 8192}).text"
   ]
  },
  {
   "cell_type": "code",
   "execution_count": null,
   "metadata": {},
   "outputs": [],
   "source": [
    "# 2. Generate Initial Slides\n",
    "slide_generator_session = sessions.create()\n",
    "slides = slide_generator_session.create_run(agent=slide_generator_app,content=f\"Write a slide deck for:\\n{story}\").steps[-1].content.parts[0].text"
   ]
  },
  {
   "cell_type": "code",
   "execution_count": null,
   "metadata": {},
   "outputs": [],
   "source": [
    "print(slides)"
   ]
  },
  {
   "cell_type": "code",
   "execution_count": null,
   "metadata": {},
   "outputs": [],
   "source": [
    "# 3. Refine Slides \n",
    "slide_refiner_session = sessions.create()\n",
    "for _ in range(2):  \n",
    "    refinement_suggestions = slide_refiner_session.create_run(agent=slide_refiner_app,content=slides).steps[-1].content.parts[0].text\n",
    "    print(f\"Refinement Suggestions:\\n{refinement_suggestions}\\n\")\n",
    "    slides = refinement_suggestions  "
   ]
  },
  {
   "cell_type": "code",
   "execution_count": null,
   "metadata": {},
   "outputs": [],
   "source": [
    "print(slides)"
   ]
  },
  {
   "cell_type": "code",
   "execution_count": null,
   "metadata": {},
   "outputs": [],
   "source": [
    "# 4. Convert to JSON\n",
    "json_converter_session = sessions.create()\n",
    "slides_json = json_converter_session.create_run(agent=json_converter_app,content=slides).steps[-1].content.parts[0].text"
   ]
  },
  {
   "cell_type": "code",
   "execution_count": 16,
   "metadata": {},
   "outputs": [],
   "source": [
    "try:\n",
    "    cleaned_json_string = slides_json.replace(\"```json\", \"\").replace(\"```\", \"\").strip()\n",
    "    slide_data = json.loads(cleaned_json_string)  # Convert to Python list of dicts\n",
    "\n",
    "except json.JSONDecodeError as e:\n",
    "    print(f\"Error decoding JSON: {e}\")\n",
    "    print(f\"Problematic JSON string: {cleaned_json_string}\")\n",
    "    slide_data = []  "
   ]
  },
  {
   "cell_type": "code",
   "execution_count": 17,
   "metadata": {},
   "outputs": [],
   "source": [
    "slide_data = json.loads(cleaned_json_string)"
   ]
  },
  {
   "cell_type": "code",
   "execution_count": null,
   "metadata": {},
   "outputs": [],
   "source": [
    "print(slide_data)"
   ]
  },
  {
   "cell_type": "code",
   "execution_count": null,
   "metadata": {},
   "outputs": [],
   "source": [
    "# 5. Generate Image Descriptions & Images\n",
    "if slide_data: \n",
    "    imagen_model = ImageGenerationModel.from_pretrained(IMAGE_MODEL)\n",
    "    image_description_session = sessions.create()\n",
    "    slide_data_with_images = generate_images(slide_data, image_description_session, imagen_model,query)\n",
    "else:\n",
    "    print(\"Could not generate slides and images due to the invalid JSON.\")\n"
   ]
  },
  {
   "cell_type": "code",
   "execution_count": 58,
   "metadata": {},
   "outputs": [],
   "source": [
    "slide_data = slide_data_with_images"
   ]
  },
  {
   "cell_type": "code",
   "execution_count": 59,
   "metadata": {},
   "outputs": [],
   "source": [
    "from reportlab.lib.pagesizes import letter\n",
    "from reportlab.platypus import SimpleDocTemplate, Paragraph, Spacer, Image\n",
    "from reportlab.lib.styles import getSampleStyleSheet\n",
    "from io import BytesIO"
   ]
  },
  {
   "cell_type": "code",
   "execution_count": 60,
   "metadata": {},
   "outputs": [],
   "source": [
    "# Create a PDF document\n",
    "pdf_file = \"slides.pdf\"\n",
    "doc = SimpleDocTemplate(pdf_file, pagesize=letter)"
   ]
  },
  {
   "cell_type": "code",
   "execution_count": 61,
   "metadata": {},
   "outputs": [],
   "source": [
    "story = []\n",
    "styles = getSampleStyleSheet()"
   ]
  },
  {
   "cell_type": "code",
   "execution_count": null,
   "metadata": {},
   "outputs": [],
   "source": [
    "import base64\n",
    "for slide_data in slide_data:\n",
    "    # Add title\n",
    "    story.append(Paragraph(slide_data['title'], styles['h1']))\n",
    "    story.append(Spacer(1, 12)) \n",
    "\n",
    "    # Handle GeneratedImage\n",
    "    image_data = BytesIO(base64.b64decode(slide_data['image']))\n",
    "    img = Image(image_data, width=400, height=300)\n",
    "    story.append(img)\n",
    "    story.append(Spacer(1, 12))\n",
    "\n",
    "    # Add description\n",
    "    story.append(Paragraph(slide_data['description'], styles['Normal']))\n",
    "    story.append(Spacer(1, 12))\n",
    "\n",
    "    # Add takeaways as bullet points\n",
    "    for takeaway in slide_data['takeaways']:\n",
    "        story.append(Paragraph(f\"- {takeaway}\", styles['Normal']))\n",
    "    story.append(Spacer(1, 24))  \n",
    "\n",
    "# Build the PDF\n",
    "doc.build(story)\n",
    "\n",
    "print(f\"PDF created: {pdf_file}\")"
   ]
  }
 ],
 "metadata": {
  "kernelspec": {
   "display_name": "ds-agent",
   "language": "python",
   "name": "python3"
  },
  "language_info": {
   "codemirror_mode": {
    "name": "ipython",
    "version": 3
   },
   "file_extension": ".py",
   "mimetype": "text/x-python",
   "name": "python",
   "nbconvert_exporter": "python",
   "pygments_lexer": "ipython3",
   "version": "3.12.2"
  }
 },
 "nbformat": 4,
 "nbformat_minor": 2
}
